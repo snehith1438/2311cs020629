{
 "cells": [
  {
   "cell_type": "markdown",
   "id": "1ab77f78-68d6-4df2-b63c-1c9790fe37fc",
   "metadata": {},
   "source": [
    "#Data Filtering \n",
    "Extract all rows where sales are greater than 1000.Find all sales records for a specific region (e.g., \"East\").\n",
    "Data Processing\n",
    "Add a new column, Profit_Per_Unit, calculated as Profit / Quantity.\n",
    "Create another column, High_Sales, which labels rows as Yes if Sales > 1000, else No.\n"
   ]
  },
  {
   "cell_type": "code",
   "execution_count": 35,
   "id": "2711c322-744f-4d19-9c4d-93115949edba",
   "metadata": {},
   "outputs": [
    {
     "name": "stdout",
     "output_type": "stream",
     "text": [
      "         Date Product Region    Sales  Profit  Quantity\n",
      "0  2023-01-02  Tablet   East  1061.81  236.12         7\n",
      "1  2023-01-06  Laptop  North  1926.07  246.34         8\n",
      "2  2023-01-03  Tablet   East  1597.99  253.17         3\n",
      "3  2023-01-20  Tablet  North  1397.99  242.23         1\n",
      "4  2023-01-04  Laptop   West   734.03  140.36         4\n"
     ]
    }
   ],
   "source": [
    "import pandas as pd\n",
    "Day_8_sales_data = pd.read_csv('Day_8_sales_data.csv')\n",
    "print(Day_8_sales_data.head())"
   ]
  },
  {
   "cell_type": "code",
   "execution_count": 37,
   "id": "2750a258-e3f2-448a-a6be-8e07216b9edf",
   "metadata": {},
   "outputs": [
    {
     "name": "stdout",
     "output_type": "stream",
     "text": [
      "          Date     Product Region    Sales  Profit  Quantity\n",
      "0   2023-01-02      Tablet   East  1061.81  236.12         7\n",
      "1   2023-01-06      Laptop  North  1926.07  246.34         8\n",
      "2   2023-01-03      Tablet   East  1597.99  253.17         3\n",
      "3   2023-01-20      Tablet  North  1397.99  242.23         1\n",
      "7   2023-01-07  Smartphone   East  1799.26  364.97         4\n",
      "8   2023-01-11  Smartphone   West  1401.67  306.24         2\n",
      "9   2023-01-01      Laptop  North  1562.11  170.72         6\n",
      "11  2023-01-12      Laptop   West  1954.86  262.16         4\n",
      "12  2023-01-09     Monitor  North  1748.66  197.62         6\n",
      "17  2023-01-18     Monitor   West  1287.13  153.86         7\n",
      "18  2023-01-13      Tablet   West  1147.92  271.88         9\n"
     ]
    }
   ],
   "source": [
    "high_sales_data = Day_8_sales_data[Day_8_sales_data['Sales'] > 1000]\n",
    "print(high_sales_data)\n"
   ]
  },
  {
   "cell_type": "code",
   "execution_count": 39,
   "id": "baf5d021-e7ea-4235-a3fe-5626b0e59cb2",
   "metadata": {},
   "outputs": [
    {
     "name": "stdout",
     "output_type": "stream",
     "text": [
      "          Date     Product Region    Sales  Profit  Quantity\n",
      "0   2023-01-02      Tablet   East  1061.81  236.12         7\n",
      "2   2023-01-03      Tablet   East  1597.99  253.17         3\n",
      "6   2023-01-14    Keyboard   East   587.13   82.16         8\n",
      "7   2023-01-07  Smartphone   East  1799.26  364.97         4\n",
      "14  2023-01-08      Laptop   East   772.74  226.51         2\n"
     ]
    }
   ],
   "source": [
    "east_sales_data = Day_8_sales_data[Day_8_sales_data['Region'] == 'East']\n",
    "print(east_sales_data)"
   ]
  },
  {
   "cell_type": "code",
   "execution_count": 41,
   "id": "05b54cb2-ef47-410f-84c5-3744e5907ddd",
   "metadata": {},
   "outputs": [
    {
     "name": "stdout",
     "output_type": "stream",
     "text": [
      "  Product  Profit_Per_Unit\n",
      "0  Tablet        33.731429\n",
      "1  Laptop        30.792500\n",
      "2  Tablet        84.390000\n",
      "3  Tablet       242.230000\n",
      "4  Laptop        35.090000\n"
     ]
    }
   ],
   "source": [
    "Day_8_sales_data['Profit_Per_Unit'] = Day_8_sales_data['Profit'] / Day_8_sales_data['Quantity']\n",
    "print(Day_8_sales_data[['Product', 'Profit_Per_Unit']].head())"
   ]
  },
  {
   "cell_type": "code",
   "execution_count": 43,
   "id": "f2ade178-e924-48ed-a624-5c7d07190718",
   "metadata": {},
   "outputs": [
    {
     "name": "stdout",
     "output_type": "stream",
     "text": [
      "  Product    Sales High_Sales\n",
      "0  Tablet  1061.81        Yes\n",
      "1  Laptop  1926.07        Yes\n",
      "2  Tablet  1597.99        Yes\n",
      "3  Tablet  1397.99        Yes\n",
      "4  Laptop   734.03         No\n"
     ]
    }
   ],
   "source": [
    "Day_8_sales_data['High_Sales'] = Day_8_sales_data['Sales'].apply(lambda x: 'Yes' if x > 1000 else 'No')\n",
    "print(Day_8_sales_data[['Product', 'Sales', 'High_Sales']].head())"
   ]
  },
  {
   "cell_type": "code",
   "execution_count": null,
   "id": "ab3ee5a7-2637-489f-91c8-941a625ccee5",
   "metadata": {},
   "outputs": [],
   "source": []
  }
 ],
 "metadata": {
  "kernelspec": {
   "display_name": "Python [conda env:base] *",
   "language": "python",
   "name": "conda-base-py"
  },
  "language_info": {
   "codemirror_mode": {
    "name": "ipython",
    "version": 3
   },
   "file_extension": ".py",
   "mimetype": "text/x-python",
   "name": "python",
   "nbconvert_exporter": "python",
   "pygments_lexer": "ipython3",
   "version": "3.12.7"
  }
 },
 "nbformat": 4,
 "nbformat_minor": 5
}
