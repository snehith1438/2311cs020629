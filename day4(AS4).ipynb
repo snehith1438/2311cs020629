{
 "cells": [
  {
   "cell_type": "markdown",
   "id": "ab435195",
   "metadata": {},
   "source": [
    "#### Write a Python program to calculate the sum of all even numbers between 1 and a given positive integer n\n"
   ]
  },
  {
   "cell_type": "code",
   "execution_count": 1,
   "id": "5edf8257",
   "metadata": {},
   "outputs": [
    {
     "name": "stdout",
     "output_type": "stream",
     "text": [
      "Enter a positive integer n: 6\n",
      "The sum of all even numbers between 1 and 6 is: 12\n"
     ]
    }
   ],
   "source": [
    "n = int(input(\"Enter a positive integer n: \"))\n",
    "sum_of_evens = 0\n",
    "\n",
    "for i in range(2, n+1, 2):  \n",
    "    sum_of_evens += i\n",
    "\n",
    "# Print the result\n",
    "print(f\"The sum of all even numbers between 1 and {n} is: {sum_of_evens}\")"
   ]
  },
  {
   "cell_type": "code",
   "execution_count": null,
   "id": "93033c56",
   "metadata": {},
   "outputs": [],
   "source": []
  }
 ],
 "metadata": {
  "kernelspec": {
   "display_name": "Python 3 (ipykernel)",
   "language": "python",
   "name": "python3"
  },
  "language_info": {
   "codemirror_mode": {
    "name": "ipython",
    "version": 3
   },
   "file_extension": ".py",
   "mimetype": "text/x-python",
   "name": "python",
   "nbconvert_exporter": "python",
   "pygments_lexer": "ipython3",
   "version": "3.11.4"
  }
 },
 "nbformat": 4,
 "nbformat_minor": 5
}
