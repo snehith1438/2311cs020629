{
  "nbformat": 4,
  "nbformat_minor": 0,
  "metadata": {
    "colab": {
      "provenance": []
    },
    "kernelspec": {
      "name": "python3",
      "display_name": "Python 3"
    },
    "language_info": {
      "name": "python"
    }
  },
  "cells": [
    {
      "cell_type": "code",
      "execution_count": 1,
      "metadata": {
        "id": "zWUYrRjEZuqC"
      },
      "outputs": [],
      "source": []
    },
    {
      "cell_type": "markdown",
      "source": [
        "#### Using the Pandas library, perform the following tasks:\n",
        "#### 1. Create a DataFrame from the following data:\n",
        "#### Name\tAge\tDepartment\tSalary\n",
        "#### John\t28\tHR\t45000\n",
        "#### Alice\t34\tIT\t60000\n",
        "#### Bob\t23\tMarketing\t35000\n",
        "####Diana\t29\tFinance\t50000\n"
      ],
      "metadata": {
        "id": "UR7rGf6xafa4"
      }
    },
    {
      "cell_type": "code",
      "source": [
        "import pandas as pd\n",
        "data = {\n",
        "    \"Name\": [\"John\", \"Alice\", \"Bob\", \"Diana\"],\n",
        "    \"Age\": [28, 34, 23, 29],\n",
        "    \"Departmet\": [\"HR\", \"IT\", \"Marketing\", \"Finance\"],\n",
        "    \"Salary\": [45000, 60000, 35000, 50000]\n",
        "}\n",
        "\n",
        "df = pd.DataFrame(data)\n",
        "print(\"First 2 rows:\")\n",
        "print(df.head(2))\n",
        "df['Bonus'] = df['Salary'] * 0.10\n",
        "average_salary = df['Salary'].mean()\n",
        "print(\"\\nAverage Salary:\", average_salary)\n",
        "older_than_25 = df[df['Age'] > 25]\n",
        "print(\"\\nEmployees older than 25:\")\n",
        "print(older_than_25)"
      ],
      "metadata": {
        "colab": {
          "base_uri": "https://localhost:8080/"
        },
        "id": "ES4zsOKyalm5",
        "outputId": "f4aa5eb5-1923-45ca-9a30-96f2c8eaf9f8"
      },
      "execution_count": 2,
      "outputs": [
        {
          "output_type": "stream",
          "name": "stdout",
          "text": [
            "First 2 rows:\n",
            "    Name  Age Departmet  Salary\n",
            "0   John   28        HR   45000\n",
            "1  Alice   34        IT   60000\n",
            "\n",
            "Average Salary: 47500.0\n",
            "\n",
            "Employees older than 25:\n",
            "    Name  Age Departmet  Salary   Bonus\n",
            "0   John   28        HR   45000  4500.0\n",
            "1  Alice   34        IT   60000  6000.0\n",
            "3  Diana   29   Finance   50000  5000.0\n"
          ]
        }
      ]
    },
    {
      "cell_type": "code",
      "source": [],
      "metadata": {
        "id": "JmMQRuJFal28"
      },
      "execution_count": null,
      "outputs": []
    },
    {
      "cell_type": "markdown",
      "source": [
        "#### 2.Write code to:\n",
        "#### Display the first 2 rows of the DataFrame. Add a new column named Bonus where the bonus is 10% of the salary. Calculate the average salary of employees in the DataFrame. Filter and display employees who are older than 25."
      ],
      "metadata": {
        "id": "W-u6Z5fqawXW"
      }
    },
    {
      "cell_type": "code",
      "source": [
        "import pandas as pd\n",
        "data = {\n",
        "    'EmployeeID': [1, 2, 3, 4, 5],\n",
        "    'Name': ['Alice', 'Bob', 'Charlie', 'David', 'Eve'],\n",
        "    'Age': [24, 30, 35, 22, 28],\n",
        "    'Salary': [50000, 60000, 70000, 55000, 65000]\n",
        "}\n",
        "df = pd.DataFrame(data)\n",
        "print(\"First 2 rows of the DataFrame:\")\n",
        "print(df.head(2))\n",
        "df['Bonus'] = df['Salary'] * 0.10\n",
        "print(\"\\nUpdated DataFrame with Bonus:\")\n",
        "print(df)\n",
        "average_salary = df['Salary'].mean()\n",
        "print(\"\\nAverage Salary of Employees:\", average_salary)\n",
        "filtered_employees = df[df['Age'] > 25]\n",
        "print(\"\\nEmployees older than 25:\")\n",
        "print(filtered_employees)"
      ],
      "metadata": {
        "colab": {
          "base_uri": "https://localhost:8080/"
        },
        "id": "Aq4JgsFYa4-3",
        "outputId": "adf75372-38fc-4883-82f3-7d364a14cdbf"
      },
      "execution_count": 3,
      "outputs": [
        {
          "output_type": "stream",
          "name": "stdout",
          "text": [
            "First 2 rows of the DataFrame:\n",
            "   EmployeeID   Name  Age  Salary\n",
            "0           1  Alice   24   50000\n",
            "1           2    Bob   30   60000\n",
            "\n",
            "Updated DataFrame with Bonus:\n",
            "   EmployeeID     Name  Age  Salary   Bonus\n",
            "0           1    Alice   24   50000  5000.0\n",
            "1           2      Bob   30   60000  6000.0\n",
            "2           3  Charlie   35   70000  7000.0\n",
            "3           4    David   22   55000  5500.0\n",
            "4           5      Eve   28   65000  6500.0\n",
            "\n",
            "Average Salary of Employees: 60000.0\n",
            "\n",
            "Employees older than 25:\n",
            "   EmployeeID     Name  Age  Salary   Bonus\n",
            "1           2      Bob   30   60000  6000.0\n",
            "2           3  Charlie   35   70000  7000.0\n",
            "4           5      Eve   28   65000  6500.0\n"
          ]
        }
      ]
    },
    {
      "cell_type": "code",
      "source": [],
      "metadata": {
        "id": "k2qdARD_al93"
      },
      "execution_count": null,
      "outputs": []
    },
    {
      "cell_type": "markdown",
      "source": [],
      "metadata": {
        "id": "6qjE9RMuacZ9"
      }
    }
  ]
}