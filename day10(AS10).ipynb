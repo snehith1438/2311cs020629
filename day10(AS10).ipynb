{
 "cells": [
  {
   "cell_type": "markdown",
   "id": "4eee2681-e95c-40bd-9951-b8eb3881bf50",
   "metadata": {},
   "source": [
    "Assignment-1 Filtering Data Based on Conditions"
   ]
  },
  {
   "cell_type": "markdown",
   "id": "1ab77f78-68d6-4df2-b63c-1c9790fe37fc",
   "metadata": {},
   "source": [
    "Filter out all rows where the Transaction_Amount is greater than 2000.\n",
    "Find all rows where the Transaction_Type is \"Loan Payment\" and the Account_Balance is greater than 5000.\n",
    "Extract transactions made in the \"Uptown\" branch."
   ]
  },
  {
   "cell_type": "code",
   "execution_count": 67,
   "id": "71d3843f-9e13-442a-ae80-848a0f095b25",
   "metadata": {},
   "outputs": [
    {
     "name": "stdout",
     "output_type": "stream",
     "text": [
      "          Date       Account_Type    Branch Transaction_Type  \\\n",
      "0   2023-01-19      Fixed Deposit   Central     Loan Payment   \n",
      "1   2023-01-16            Current    Uptown       Withdrawal   \n",
      "3   2023-01-18            Savings    Uptown     Loan Payment   \n",
      "6   2023-01-04  Recurring Deposit   Central   Service Charge   \n",
      "9   2023-01-11      Fixed Deposit  Downtown          Deposit   \n",
      "10  2023-01-13  Recurring Deposit   Central          Deposit   \n",
      "11  2023-01-08      Fixed Deposit  Suburban   Service Charge   \n",
      "12  2023-01-15      Fixed Deposit    Uptown   Service Charge   \n",
      "18  2023-01-12  Recurring Deposit  Suburban   Service Charge   \n",
      "\n",
      "    Transaction_Amount  Account_Balance  \n",
      "0               985.51          6839.59  \n",
      "1               641.43          8908.39  \n",
      "3              1914.60          5776.63  \n",
      "6              1621.82          6465.79  \n",
      "9              1529.59          2592.16  \n",
      "10              846.41          6443.14  \n",
      "11             1803.88          6560.58  \n",
      "12             1225.50          4224.47  \n",
      "18             1339.57          8666.74  \n"
     ]
    }
   ],
   "source": [
    "filtered_transaction_amount = banking_data[banking_data['Transaction_Amount'] <= 2000]\n",
    "print(filtered_transaction_amount)"
   ]
  },
  {
   "cell_type": "code",
   "execution_count": 69,
   "id": "56b5ee4b-f413-4a01-ba9c-f67f5770475b",
   "metadata": {},
   "outputs": [
    {
     "name": "stdout",
     "output_type": "stream",
     "text": [
      "          Date       Account_Type   Branch Transaction_Type  \\\n",
      "0   2023-01-19      Fixed Deposit  Central     Loan Payment   \n",
      "2   2023-01-10            Current   Uptown     Loan Payment   \n",
      "3   2023-01-18            Savings   Uptown     Loan Payment   \n",
      "7   2023-01-09            Current  Central     Loan Payment   \n",
      "13  2023-01-05  Recurring Deposit  Central     Loan Payment   \n",
      "17  2023-01-07            Current  Central     Loan Payment   \n",
      "\n",
      "    Transaction_Amount  Account_Balance  \n",
      "0               985.51          6839.59  \n",
      "2              3363.85         12428.67  \n",
      "3              1914.60          5776.63  \n",
      "7              2346.72         10708.85  \n",
      "13             4683.64          6762.43  \n",
      "17             4116.52          9785.64  \n"
     ]
    }
   ],
   "source": [
    "loan_payment_high_balance = banking_data[(banking_data['Transaction_Type'] == 'Loan Payment') & \n",
    "                                          (banking_data['Account_Balance'] > 5000)]\n",
    "\n",
    "print(loan_payment_high_balance)"
   ]
  },
  {
   "cell_type": "code",
   "execution_count": 65,
   "id": "db4a46a8-9bfb-441a-94b6-10708288aa43",
   "metadata": {},
   "outputs": [
    {
     "name": "stdout",
     "output_type": "stream",
     "text": [
      "          Date   Account_Type  Branch Transaction_Type  Transaction_Amount  \\\n",
      "1   2023-01-16        Current  Uptown       Withdrawal              641.43   \n",
      "2   2023-01-10        Current  Uptown     Loan Payment             3363.85   \n",
      "3   2023-01-18        Savings  Uptown     Loan Payment             1914.60   \n",
      "12  2023-01-15  Fixed Deposit  Uptown   Service Charge             1225.50   \n",
      "\n",
      "    Account_Balance  \n",
      "1           8908.39  \n",
      "2          12428.67  \n",
      "3           5776.63  \n",
      "12          4224.47  \n"
     ]
    }
   ],
   "source": [
    "uptown_transactions = banking_data[banking_data['Branch'] == 'Uptown']\n",
    "print(uptown_transactions)"
   ]
  },
  {
   "cell_type": "markdown",
   "id": "710f5a95-1eef-480d-b54b-d9bb55bcd4a8",
   "metadata": {},
   "source": [
    "Assignment-2 Data Transformation"
   ]
  },
  {
   "cell_type": "code",
   "execution_count": null,
   "id": "ccf1a1e7-2c06-4154-ae3b-d217f25a1a31",
   "metadata": {},
   "outputs": [],
   "source": [
    "Add a new column called Transaction_Fee, calculated as 2% of Transaction_Amount.\n",
    "Create a new column Balance_Status:\n",
    "If Account_Balance is greater than 5000, label it as \"High Balance\".\n",
    "Otherwise, label it as \"Low Balance\"."
   ]
  },
  {
   "cell_type": "code",
   "execution_count": 71,
   "id": "29563e11-527a-4281-9f65-05b1acc4183d",
   "metadata": {},
   "outputs": [
    {
     "name": "stdout",
     "output_type": "stream",
     "text": [
      "   Transaction_Amount  Transaction_Fee\n",
      "0              985.51          19.7102\n",
      "1              641.43          12.8286\n",
      "2             3363.85          67.2770\n",
      "3             1914.60          38.2920\n",
      "4             2788.57          55.7714\n"
     ]
    }
   ],
   "source": [
    "banking_data['Transaction_Fee'] = banking_data['Transaction_Amount'] * 0.02\n",
    "print(banking_data[['Transaction_Amount', 'Transaction_Fee']].head())"
   ]
  },
  {
   "cell_type": "code",
   "execution_count": 73,
   "id": "dc4b0a29-1707-4e8f-b70c-31ba062bd6c2",
   "metadata": {},
   "outputs": [
    {
     "name": "stdout",
     "output_type": "stream",
     "text": [
      "   Account_Balance Balance_Status\n",
      "0          6839.59   High Balance\n",
      "1          8908.39   High Balance\n",
      "2         12428.67   High Balance\n",
      "3          5776.63   High Balance\n",
      "4          4779.04    Low Balance\n"
     ]
    }
   ],
   "source": [
    "banking_data['Balance_Status'] = banking_data['Account_Balance'].apply(lambda x: 'High Balance' if x > 5000 else 'Low Balance')\n",
    "print(banking_data[['Account_Balance', 'Balance_Status']].head())"
   ]
  },
  {
   "cell_type": "code",
   "execution_count": null,
   "id": "c16a13d6-5ac2-451a-9eec-bcb3482b6d67",
   "metadata": {},
   "outputs": [],
   "source": []
  }
 ],
 "metadata": {
  "kernelspec": {
   "display_name": "Python [conda env:base] *",
   "language": "python",
   "name": "conda-base-py"
  },
  "language_info": {
   "codemirror_mode": {
    "name": "ipython",
    "version": 3
   },
   "file_extension": ".py",
   "mimetype": "text/x-python",
   "name": "python",
   "nbconvert_exporter": "python",
   "pygments_lexer": "ipython3",
   "version": "3.12.7"
  }
 },
 "nbformat": 4,
 "nbformat_minor": 5
}
