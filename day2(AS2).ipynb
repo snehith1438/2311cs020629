{
 "cells": [
  {
   "cell_type": "markdown",
   "id": "81fc2d79",
   "metadata": {},
   "source": [
    "#### Create a List, tuple and Dictionary with 5 elements in it and how to access few elements based on the index. Try  with different examples "
   ]
  },
  {
   "cell_type": "code",
   "execution_count": 1,
   "id": "09a3e210",
   "metadata": {},
   "outputs": [
    {
     "data": {
      "text/plain": [
       "[99, 88, 77, 66, 55]"
      ]
     },
     "execution_count": 1,
     "metadata": {},
     "output_type": "execute_result"
    }
   ],
   "source": [
    "yogendhar=[99,88,77,66,55]\n",
    "yogendhar\n"
   ]
  },
  {
   "cell_type": "code",
   "execution_count": 2,
   "id": "3eb3659c",
   "metadata": {},
   "outputs": [
    {
     "data": {
      "text/plain": [
       "list"
      ]
     },
     "execution_count": 2,
     "metadata": {},
     "output_type": "execute_result"
    }
   ],
   "source": [
    "type(yogendhar)"
   ]
  },
  {
   "cell_type": "code",
   "execution_count": 3,
   "id": "b2a55c86",
   "metadata": {},
   "outputs": [
    {
     "data": {
      "text/plain": [
       "77"
      ]
     },
     "execution_count": 3,
     "metadata": {},
     "output_type": "execute_result"
    }
   ],
   "source": [
    "yogendhar[2]"
   ]
  },
  {
   "cell_type": "code",
   "execution_count": 4,
   "id": "ed035bfb",
   "metadata": {},
   "outputs": [
    {
     "data": {
      "text/plain": [
       "[88, 77, 66]"
      ]
     },
     "execution_count": 4,
     "metadata": {},
     "output_type": "execute_result"
    }
   ],
   "source": [
    "yogendhar[1:4]"
   ]
  },
  {
   "cell_type": "code",
   "execution_count": 5,
   "id": "7eb9fd81",
   "metadata": {},
   "outputs": [
    {
     "data": {
      "text/plain": [
       "[88, 55]"
      ]
     },
     "execution_count": 5,
     "metadata": {},
     "output_type": "execute_result"
    }
   ],
   "source": [
    "yogendhar[1::3]"
   ]
  },
  {
   "cell_type": "code",
   "execution_count": 6,
   "id": "9f3820b7",
   "metadata": {},
   "outputs": [
    {
     "data": {
      "text/plain": [
       "(11, 22, 33, 44, 55)"
      ]
     },
     "execution_count": 6,
     "metadata": {},
     "output_type": "execute_result"
    }
   ],
   "source": [
    "Z=(11,22,33,44,55)\n",
    "Z"
   ]
  },
  {
   "cell_type": "code",
   "execution_count": 8,
   "id": "e4745438",
   "metadata": {},
   "outputs": [
    {
     "data": {
      "text/plain": [
       "tuple"
      ]
     },
     "execution_count": 8,
     "metadata": {},
     "output_type": "execute_result"
    }
   ],
   "source": [
    "type(Z)"
   ]
  },
  {
   "cell_type": "code",
   "execution_count": 9,
   "id": "ae547a47",
   "metadata": {},
   "outputs": [
    {
     "data": {
      "text/plain": [
       "11"
      ]
     },
     "execution_count": 9,
     "metadata": {},
     "output_type": "execute_result"
    }
   ],
   "source": [
    "Z[0]"
   ]
  },
  {
   "cell_type": "code",
   "execution_count": 10,
   "id": "6ce096ef",
   "metadata": {},
   "outputs": [
    {
     "data": {
      "text/plain": [
       "()"
      ]
     },
     "execution_count": 10,
     "metadata": {},
     "output_type": "execute_result"
    }
   ],
   "source": [
    "Z[-1:-4]"
   ]
  },
  {
   "cell_type": "code",
   "execution_count": 11,
   "id": "86bf9a84",
   "metadata": {},
   "outputs": [
    {
     "data": {
      "text/plain": [
       "(33, 44)"
      ]
     },
     "execution_count": 11,
     "metadata": {},
     "output_type": "execute_result"
    }
   ],
   "source": [
    "Z[2:-1]"
   ]
  },
  {
   "cell_type": "code",
   "execution_count": 12,
   "id": "e3bcf004",
   "metadata": {},
   "outputs": [
    {
     "data": {
      "text/plain": [
       "{102: 34, 56: 12, 45: 23, 78: 39}"
      ]
     },
     "execution_count": 12,
     "metadata": {},
     "output_type": "execute_result"
    }
   ],
   "source": [
    "Y={102:34,56:12,45:23,78:39}\n",
    "Y"
   ]
  },
  {
   "cell_type": "code",
   "execution_count": 13,
   "id": "4881c80e",
   "metadata": {},
   "outputs": [
    {
     "data": {
      "text/plain": [
       "{102: 99, 56: 12, 45: 23, 78: 39}"
      ]
     },
     "execution_count": 13,
     "metadata": {},
     "output_type": "execute_result"
    }
   ],
   "source": [
    "Y.update({102:99})\n",
    "Y"
   ]
  },
  {
   "cell_type": "code",
   "execution_count": 14,
   "id": "55c20172",
   "metadata": {},
   "outputs": [
    {
     "data": {
      "text/plain": [
       "dict_items([(102, 99), (56, 12), (45, 23), (78, 39)])"
      ]
     },
     "execution_count": 14,
     "metadata": {},
     "output_type": "execute_result"
    }
   ],
   "source": [
    "Y.items()"
   ]
  },
  {
   "cell_type": "code",
   "execution_count": 15,
   "id": "67d8f629",
   "metadata": {},
   "outputs": [
    {
     "data": {
      "text/plain": [
       "{102: 3009, 56: 12, 45: 23, 78: 39}"
      ]
     },
     "execution_count": 15,
     "metadata": {},
     "output_type": "execute_result"
    }
   ],
   "source": [
    "Y[102] = 3009\n",
    "Y"
   ]
  },
  {
   "cell_type": "code",
   "execution_count": 16,
   "id": "866a761d",
   "metadata": {},
   "outputs": [
    {
     "data": {
      "text/plain": [
       "{102: 3009, 45: 23, 78: 39}"
      ]
     },
     "execution_count": 16,
     "metadata": {},
     "output_type": "execute_result"
    }
   ],
   "source": [
    "del Y[56]\n",
    "Y"
   ]
  },
  {
   "cell_type": "code",
   "execution_count": 17,
   "id": "8938997e",
   "metadata": {},
   "outputs": [
    {
     "data": {
      "text/plain": [
       "{102: 3009, 45: 23, 78: 39}"
      ]
     },
     "execution_count": 17,
     "metadata": {},
     "output_type": "execute_result"
    }
   ],
   "source": [
    "Y.update({45:23})\n",
    "Y"
   ]
  },
  {
   "cell_type": "code",
   "execution_count": 18,
   "id": "3d85e2bc",
   "metadata": {},
   "outputs": [
    {
     "data": {
      "text/plain": [
       "{102: 3009, 45: 67890, 78: 39}"
      ]
     },
     "execution_count": 18,
     "metadata": {},
     "output_type": "execute_result"
    }
   ],
   "source": [
    "Y.update({45:67890})\n",
    "Y"
   ]
  },
  {
   "cell_type": "code",
   "execution_count": 19,
   "id": "bf9fe778",
   "metadata": {},
   "outputs": [
    {
     "data": {
      "text/plain": [
       "{102: 3009, 45: 67890, 78: 39, 123: (98, 87, 76, 65, 54, 43)}"
      ]
     },
     "execution_count": 19,
     "metadata": {},
     "output_type": "execute_result"
    }
   ],
   "source": [
    "Y.update({123:(98,87,76,65,54,43)})\n",
    "Y"
   ]
  },
  {
   "cell_type": "code",
   "execution_count": null,
   "id": "d35038b2",
   "metadata": {},
   "outputs": [],
   "source": []
  }
 ],
 "metadata": {
  "kernelspec": {
   "display_name": "Python 3 (ipykernel)",
   "language": "python",
   "name": "python3"
  },
  "language_info": {
   "codemirror_mode": {
    "name": "ipython",
    "version": 3
   },
   "file_extension": ".py",
   "mimetype": "text/x-python",
   "name": "python",
   "nbconvert_exporter": "python",
   "pygments_lexer": "ipython3",
   "version": "3.11.4"
  }
 },
 "nbformat": 4,
 "nbformat_minor": 5
}
