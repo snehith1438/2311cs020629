{
 "cells": [
  {
   "cell_type": "markdown",
   "id": "4eee2681-e95c-40bd-9951-b8eb3881bf50",
   "metadata": {},
   "source": [
    "Assignment-1 Data Exploration"
   ]
  },
  {
   "cell_type": "markdown",
   "id": "1ab77f78-68d6-4df2-b63c-1c9790fe37fc",
   "metadata": {},
   "source": [
    "Load the banking_data.csv file using Pandas.\n",
    "Display the first 5 rows of the dataset.\n",
    "Use .describe() to generate basic statistics of the numerical columns (e.g., Transaction_Amount, Account_Balance).\n",
    "Check for missing values in the dataset."
   ]
  },
  {
   "cell_type": "code",
   "execution_count": 45,
   "id": "ab3ee5a7-2637-489f-91c8-941a625ccee5",
   "metadata": {},
   "outputs": [
    {
     "name": "stdout",
     "output_type": "stream",
     "text": [
      "         Date       Account_Type    Branch Transaction_Type  \\\n",
      "0  2023-01-19      Fixed Deposit   Central     Loan Payment   \n",
      "1  2023-01-16            Current    Uptown       Withdrawal   \n",
      "2  2023-01-10            Current    Uptown     Loan Payment   \n",
      "3  2023-01-18            Savings    Uptown     Loan Payment   \n",
      "4  2023-01-14  Recurring Deposit  Suburban     Loan Payment   \n",
      "\n",
      "   Transaction_Amount  Account_Balance  \n",
      "0              985.51          6839.59  \n",
      "1              641.43          8908.39  \n",
      "2             3363.85         12428.67  \n",
      "3             1914.60          5776.63  \n",
      "4             2788.57          4779.04  \n"
     ]
    }
   ],
   "source": [
    "import pandas as pd\n",
    "banking_data = pd.read_csv('banking_data.csv')\n",
    "print(banking_data.head())"
   ]
  },
  {
   "cell_type": "code",
   "execution_count": 47,
   "id": "66f25d42-7d69-4178-996a-766860697d6e",
   "metadata": {},
   "outputs": [
    {
     "name": "stdout",
     "output_type": "stream",
     "text": [
      "       Transaction_Amount  Account_Balance\n",
      "count           20.000000        20.000000\n",
      "mean          2705.829500      7967.766500\n",
      "std           1429.829787      2770.248821\n",
      "min            641.430000      2592.160000\n",
      "25%           1482.085000      6460.127500\n",
      "50%           2567.645000      7905.275000\n",
      "75%           4121.525000      9127.702500\n",
      "max           4683.640000     12836.510000\n"
     ]
    }
   ],
   "source": [
    "print(banking_data.describe())"
   ]
  },
  {
   "cell_type": "code",
   "execution_count": 49,
   "id": "7aab4926-d52c-49f9-b48a-59429363c37c",
   "metadata": {},
   "outputs": [
    {
     "name": "stdout",
     "output_type": "stream",
     "text": [
      "Date                  0\n",
      "Account_Type          0\n",
      "Branch                0\n",
      "Transaction_Type      0\n",
      "Transaction_Amount    0\n",
      "Account_Balance       0\n",
      "dtype: int64\n"
     ]
    }
   ],
   "source": [
    "print(banking_data.isnull().sum())"
   ]
  },
  {
   "cell_type": "markdown",
   "id": "6d7ebdc8-7712-48a3-807d-9ecc4917a1a6",
   "metadata": {},
   "source": [
    "Assignment-2 Data Aggregation and Grouping"
   ]
  },
  {
   "cell_type": "markdown",
   "id": "078724ed-eb97-4b86-a3e6-5f1b1b0b99cc",
   "metadata": {},
   "source": [
    "Group the data by Account_Type and calculate:\n",
    "The total sum of Transaction_Amount.\n",
    "The average Account_Balance for each account type.\n",
    "Group the data by Branch and calculate:\n",
    "The total number of transactions per branch.\n",
    "The average transaction amount per branch."
   ]
  },
  {
   "cell_type": "code",
   "execution_count": 51,
   "id": "2f0c6e6d-c0af-40ab-9d63-ded71cf9e0ae",
   "metadata": {},
   "outputs": [
    {
     "name": "stdout",
     "output_type": "stream",
     "text": [
      "Account_Type\n",
      "Current              15052.57\n",
      "Fixed Deposit        14102.59\n",
      "Recurring Deposit    15179.99\n",
      "Savings               9781.44\n",
      "Name: Transaction_Amount, dtype: float64\n"
     ]
    }
   ],
   "source": [
    "total_transaction_by_account_type = banking_data.groupby('Account_Type')['Transaction_Amount'].sum()\n",
    "print(total_transaction_by_account_type)"
   ]
  },
  {
   "cell_type": "code",
   "execution_count": 53,
   "id": "7f061208-c688-4011-b60f-5d7410635cb0",
   "metadata": {},
   "outputs": [
    {
     "name": "stdout",
     "output_type": "stream",
     "text": [
      "Account_Type\n",
      "Current              9893.404000\n",
      "Fixed Deposit        6120.380000\n",
      "Recurring Deposit    7627.283333\n",
      "Savings              9134.110000\n",
      "Name: Account_Balance, dtype: float64\n"
     ]
    }
   ],
   "source": [
    "average_balance_by_account_type = banking_data.groupby('Account_Type')['Account_Balance'].mean()\n",
    "print(average_balance_by_account_type)"
   ]
  },
  {
   "cell_type": "code",
   "execution_count": 55,
   "id": "2ff75527-dd9d-4cf8-8f8c-e129c6f7e548",
   "metadata": {},
   "outputs": [
    {
     "name": "stdout",
     "output_type": "stream",
     "text": [
      "Branch\n",
      "Central     8\n",
      "Downtown    3\n",
      "Suburban    5\n",
      "Uptown      4\n",
      "dtype: int64\n"
     ]
    }
   ],
   "source": [
    "transactions_per_branch = banking_data.groupby('Branch').size()\n",
    "print(transactions_per_branch)# Group by Branch and count the number of transactions"
   ]
  },
  {
   "cell_type": "code",
   "execution_count": 57,
   "id": "cf4d7e03-3669-4515-8152-7b9c683c4663",
   "metadata": {},
   "outputs": [
    {
     "name": "stdout",
     "output_type": "stream",
     "text": [
      "Branch\n",
      "Central     2942.338750\n",
      "Downtown    3188.703333\n",
      "Suburban    2773.278000\n",
      "Uptown      1786.345000\n",
      "Name: Transaction_Amount, dtype: float64\n"
     ]
    }
   ],
   "source": [
    "average_transaction_per_branch = banking_data.groupby('Branch')['Transaction_Amount'].mean()\n",
    "print(average_transaction_per_branch)"
   ]
  },
  {
   "cell_type": "code",
   "execution_count": null,
   "id": "71d3843f-9e13-442a-ae80-848a0f095b25",
   "metadata": {},
   "outputs": [],
   "source": []
  }
 ],
 "metadata": {
  "kernelspec": {
   "display_name": "Python [conda env:base] *",
   "language": "python",
   "name": "conda-base-py"
  },
  "language_info": {
   "codemirror_mode": {
    "name": "ipython",
    "version": 3
   },
   "file_extension": ".py",
   "mimetype": "text/x-python",
   "name": "python",
   "nbconvert_exporter": "python",
   "pygments_lexer": "ipython3",
   "version": "3.12.7"
  }
 },
 "nbformat": 4,
 "nbformat_minor": 5
}
