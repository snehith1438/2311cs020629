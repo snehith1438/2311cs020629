{
 "cells": [
  {
   "cell_type": "code",
   "execution_count": 1,
   "id": "54852ba9-2a5e-41b5-8df8-cb4b09244f89",
   "metadata": {},
   "outputs": [
    {
     "name": "stdout",
     "output_type": "stream",
     "text": [
      "Ola fare for 20 km: $150\n"
     ]
    }
   ],
   "source": [
    "def calculate_ola_fare(km):\n",
    "    m = 5   \n",
    "    c = 50  \n",
    "    return m * km + c\n",
    "km_travelled = 20\n",
    "fare = calculate_ola_fare(km_travelled)\n",
    "\n",
    "print(f\"Ola fare for {km_travelled} km: ${fare}\")\n"
   ]
  },
  {
   "cell_type": "code",
   "execution_count": 3,
   "id": "1c8c4912-f66c-4850-ae2a-810303dbfd0f",
   "metadata": {},
   "outputs": [
    {
     "name": "stdout",
     "output_type": "stream",
     "text": [
      "Ola fare for 20 km: $150\n",
      "Uber fare for 20 km: $115\n",
      "Uber is cheaper!\n"
     ]
    }
   ],
   "source": [
    "def calculate_fare(km, rate_per_km, base_price):\n",
    "    return rate_per_km * km + base_price\n",
    "km_travelled = 20  \n",
    "ola_fare = calculate_fare(km_travelled, 5, 50)\n",
    "uber_fare = calculate_fare(km_travelled, 4, 35)\n",
    "print(f\"Ola fare for {km_travelled} km: ${ola_fare}\")\n",
    "print(f\"Uber fare for {km_travelled} km: ${uber_fare}\")\n",
    "if ola_fare < uber_fare:\n",
    "    print(\"Ola is cheaper!\")\n",
    "elif uber_fare < ola_fare:\n",
    "    print(\"Uber is cheaper!\")\n",
    "else:\n",
    "    print(\"Both have the same fare!\")\n"
   ]
  },
  {
   "cell_type": "code",
   "execution_count": null,
   "id": "85321479-0635-4a5c-a1ae-7580fd581368",
   "metadata": {},
   "outputs": [],
   "source": []
  }
 ],
 "metadata": {
  "kernelspec": {
   "display_name": "Python [conda env:base] *",
   "language": "python",
   "name": "conda-base-py"
  },
  "language_info": {
   "codemirror_mode": {
    "name": "ipython",
    "version": 3
   },
   "file_extension": ".py",
   "mimetype": "text/x-python",
   "name": "python",
   "nbconvert_exporter": "python",
   "pygments_lexer": "ipython3",
   "version": "3.12.7"
  }
 },
 "nbformat": 4,
 "nbformat_minor": 5
}
