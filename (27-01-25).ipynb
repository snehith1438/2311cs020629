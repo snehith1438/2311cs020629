{
 "cells": [
  {
   "cell_type": "code",
   "execution_count": 5,
   "id": "8eee5479-0549-40ef-955e-a22f02340d39",
   "metadata": {},
   "outputs": [
    {
     "name": "stdout",
     "output_type": "stream",
     "text": [
      "Original DataFrame:\n",
      "   age  height  weight\n",
      "0   25     150      50\n",
      "1   30     160      60\n",
      "2   35     170      70\n",
      "3   40     180      80\n",
      "4   45     190      90\n",
      "\n",
      "Normalized DataFrame (scaled to range [0, 1]):\n",
      "    age  height  weight\n",
      "0  0.00    0.00    0.00\n",
      "1  0.25    0.25    0.25\n",
      "2  0.50    0.50    0.50\n",
      "3  0.75    0.75    0.75\n",
      "4  1.00    1.00    1.00\n",
      "\n",
      "Feature-wise Min Values After Scaling:\n",
      "age       0.0\n",
      "height    0.0\n",
      "weight    0.0\n",
      "dtype: float64\n"
     ]
    }
   ],
   "source": [
    "import pandas as pd\n",
    "from sklearn.preprocessing import MinMaxScaler\n",
    "data = {\n",
    "    \"age\": [25, 30, 35, 40, 45],\n",
    "    \"height\": [150, 160, 170, 180, 190],\n",
    "    \"weight\": [50, 60, 70, 80, 90],\n",
    "}\n",
    "df = pd.DataFrame(data)\n",
    "print(\"Original DataFrame:\")\n",
    "print(df)\n",
    "scaler = MinMaxScaler()\n",
    "normalized_data = scaler.fit_transform(df)\n",
    "normalized_df = pd.DataFrame(normalized_data, columns=df.columns)\n",
    "print(\"\\nNormalized DataFrame (scaled to range [0, 1]):\")\n",
    "print(normalized_df)\n",
    "print(\"\\nFeature-wise Min Values After Scaling:\")\n",
    "print(normalized_df.min())\n"
   ]
  },
  {
   "cell_type": "code",
   "execution_count": 9,
   "id": "242c88a2-a84c-4282-9e99-6fecfeed10d9",
   "metadata": {},
   "outputs": [
    {
     "name": "stdout",
     "output_type": "stream",
     "text": [
      "Original DataFrame:\n",
      "   age  height  weight  income\n",
      "0   25     150      50    3000\n",
      "1   30     160      60    4000\n",
      "2   35     170      70    5000\n",
      "3   40     180      80    6000\n",
      "4   45     190      90    7000\n",
      "\n",
      "Standardized DataFrame (mean=0, std=1):\n",
      "        age    height    weight    income\n",
      "0 -1.414214 -1.414214 -1.414214 -1.414214\n",
      "1 -0.707107 -0.707107 -0.707107 -0.707107\n",
      "2  0.000000  0.000000  0.000000  0.000000\n",
      "3  0.707107  0.707107  0.707107  0.707107\n",
      "4  1.414214  1.414214  1.414214  1.414214\n",
      "\n",
      "Feature-wise Mean and Std After Standardization:\n",
      "Mean:\n",
      " age       0.0\n",
      "height    0.0\n",
      "weight    0.0\n",
      "income    0.0\n",
      "dtype: float64\n",
      "Std:\n",
      " age       1.118034\n",
      "height    1.118034\n",
      "weight    1.118034\n",
      "income    1.118034\n",
      "dtype: float64\n"
     ]
    }
   ],
   "source": [
    "import pandas as pd\n",
    "from sklearn.preprocessing import StandardScaler\n",
    "data = {\n",
    "    \"age\": [25, 30, 35, 40, 45],\n",
    "    \"height\": [150, 160, 170, 180, 190],\n",
    "    \"weight\": [50, 60, 70, 80, 90],\n",
    "    \"income\": [3000, 4000, 5000, 6000, 7000],\n",
    "}\n",
    "df = pd.DataFrame(data)\n",
    "print(\"Original DataFrame:\")\n",
    "print(df)\n",
    "scaler = StandardScaler()\n",
    "standardized_data = scaler.fit_transform(df)\n",
    "standardized_df = pd.DataFrame(standardized_data, columns=df.columns)\n",
    "print(\"\\nStandardized DataFrame (mean=0, std=1):\")\n",
    "print(standardized_df)\n",
    "print(\"\\nFeature-wise Mean and Std After Standardization:\")\n",
    "print(\"Mean:\\n\", standardized_df.mean())\n",
    "print(\"Std:\\n\", standardized_df.std())"
   ]
  },
  {
   "cell_type": "code",
   "execution_count": null,
   "id": "87e28cbc-34c5-4e5b-82db-10dd2bfc1083",
   "metadata": {},
   "outputs": [],
   "source": []
  }
 ],
 "metadata": {
  "kernelspec": {
   "display_name": "Python [conda env:base] *",
   "language": "python",
   "name": "conda-base-py"
  },
  "language_info": {
   "codemirror_mode": {
    "name": "ipython",
    "version": 3
   },
   "file_extension": ".py",
   "mimetype": "text/x-python",
   "name": "python",
   "nbconvert_exporter": "python",
   "pygments_lexer": "ipython3",
   "version": "3.12.7"
  }
 },
 "nbformat": 4,
 "nbformat_minor": 5
}
