{
 "cells": [
  {
   "cell_type": "markdown",
   "id": "64f44103",
   "metadata": {},
   "source": [
    "#### 1)Write a Python program that performs the following tasks:\n",
    "#### Ask the user to enter a positive integer n.\n",
    "#### Use a for loop to print all numbers from 1 to n on separate lines.\n",
    "#### Use a while loop to calculate the sum of all numbers from 1 to n and print the result."
   ]
  },
  {
   "cell_type": "code",
   "execution_count": 1,
   "id": "2b37fb1e",
   "metadata": {},
   "outputs": [
    {
     "name": "stdout",
     "output_type": "stream",
     "text": [
      "Enter a positive integer: 4\n",
      "Numbers from 1 to 4 using a for loop:\n",
      "1\n",
      "2\n",
      "3\n",
      "4\n",
      "The sum of numbers from 1 to 4 is: 10\n"
     ]
    }
   ],
   "source": [
    "n = int(input(\"Enter a positive integer: \"))\n",
    "print(\"Numbers from 1 to\", n, \"using a for loop:\")\n",
    "for i in range(1, n + 1):\n",
    "    print(i)\n",
    "sum_of_numbers = 0\n",
    "i = 1\n",
    "while i <= n:\n",
    "    sum_of_numbers += i\n",
    "    i += 1\n",
    "print(f\"The sum of numbers from 1 to {n} is: {sum_of_numbers}\")"
   ]
  },
  {
   "cell_type": "markdown",
   "id": "0c893582",
   "metadata": {},
   "source": [
    "#### 2)Write a Python program that includes a user-defined function to perform the following tasks:\n",
    "#### Define a function named calculate_square that takes a single argument n and returns the square of n.\n",
    "#### In the main program, ask the user to input a positive integer.\n",
    "#### Call the calculate_square function with the user-provided number and display the result."
   ]
  },
  {
   "cell_type": "code",
   "execution_count": 2,
   "id": "c28f50e5",
   "metadata": {},
   "outputs": [
    {
     "name": "stdout",
     "output_type": "stream",
     "text": [
      "Enter a positive integer: 78\n",
      "The square of 78 is: 6084\n"
     ]
    }
   ],
   "source": [
    "def calculate_square(n):\n",
    "    return n ** 2\n",
    "try:\n",
    "    n = int(input(\"Enter a positive integer: \"))\n",
    "    if n < 0:\n",
    "        print(\"Please enter a positive integer.\")\n",
    "    else:\n",
    "        result = calculate_square(n)\n",
    "        print(f\"The square of {n} is: {result}\")\n",
    "except ValueError:\n",
    "    print(\"Invalid input. Please enter a valid positive integer.\")"
   ]
  },
  {
   "cell_type": "code",
   "execution_count": null,
   "id": "8057ae89",
   "metadata": {},
   "outputs": [],
   "source": []
  }
 ],
 "metadata": {
  "kernelspec": {
   "display_name": "Python 3 (ipykernel)",
   "language": "python",
   "name": "python3"
  },
  "language_info": {
   "codemirror_mode": {
    "name": "ipython",
    "version": 3
   },
   "file_extension": ".py",
   "mimetype": "text/x-python",
   "name": "python",
   "nbconvert_exporter": "python",
   "pygments_lexer": "ipython3",
   "version": "3.11.4"
  }
 },
 "nbformat": 4,
 "nbformat_minor": 5
}
