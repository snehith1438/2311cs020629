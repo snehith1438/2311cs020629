{
 "cells": [
  {
   "cell_type": "code",
   "execution_count": 13,
   "id": "8cb9f3e1-034b-4e71-bb34-46d7e8da6e01",
   "metadata": {},
   "outputs": [
    {
     "name": "stdout",
     "output_type": "stream",
     "text": [
      "Sales DataFrame:\n",
      "   SaleID  CustomerID  Amount\n",
      "0       1         101     250\n",
      "1       2         102     400\n",
      "2       3         103     150\n",
      "3       4         104     300\n",
      "\n",
      "Customer DataFrame:\n",
      "   CustomerID CustomerName  Age         City\n",
      "0         101          Ant    2     New York\n",
      "1         102          Bat    9  Los Angeles\n",
      "2         103          Cat   15      Chicago\n",
      "3         104          Dog    5      Houston\n"
     ]
    }
   ],
   "source": [
    "import pandas as pd\n",
    "sales_data = {\n",
    "    'SaleID': [1, 2, 3, 4],\n",
    "    'CustomerID': [101, 102, 103, 104],\n",
    "    'Amount': [250, 400, 150, 300]\n",
    "}\n",
    "sales_df = pd.DataFrame(sales_data)\n",
    "customer_data = {\n",
    "    'CustomerID': [101, 102, 103, 104],\n",
    "    'CustomerName': ['Ant', 'Bat', 'Cat', 'Dog'],\n",
    "    'Age': [2, 9, 15, 5],\n",
    "    'City': ['New York', 'Los Angeles', 'Chicago', 'Houston']\n",
    "}\n",
    "customer_df = pd.DataFrame(customer_data)\n",
    "print(\"Sales DataFrame:\")\n",
    "print(sales_df)\n",
    "print(\"\\nCustomer DataFrame:\")\n",
    "print(customer_df)\n"
   ]
  },
  {
   "cell_type": "code",
   "execution_count": 21,
   "id": "b899972b-aca3-4e25-8df1-469edfca5aa0",
   "metadata": {},
   "outputs": [
    {
     "name": "stdout",
     "output_type": "stream",
     "text": [
      "\n",
      "Merged DataFrame:\n",
      "   SaleID  CustomerID  Amount CustomerName  Age         City\n",
      "0       1         101     250          Ant    2     New York\n",
      "1       2         102     400          Bat    9  Los Angeles\n",
      "2       3         103     150          Cat   15      Chicago\n",
      "3       4         104     300          Dog    5      Houston\n"
     ]
    }
   ],
   "source": [
    "merged_df = pd.merge(sales_df, customer_df, on='CustomerID', how='inner')\n",
    "print(\"\\nMerged DataFrame:\")\n",
    "print(merged_df)\n"
   ]
  },
  {
   "cell_type": "code",
   "execution_count": 25,
   "id": "b6077908-fa94-44b1-9b99-b4b549d71438",
   "metadata": {},
   "outputs": [
    {
     "name": "stdout",
     "output_type": "stream",
     "text": [
      "\n",
      "Merged DataFrame:\n",
      "   SaleID  CustomerID  Amount CustomerName  Age         City\n",
      "0       1         101     250          Ant    2     New York\n",
      "1       2         102     400          Bat    9  Los Angeles\n",
      "2       3         103     150          Cat   15      Chicago\n",
      "3       4         104     300          Dog    5      Houston\n"
     ]
    }
   ],
   "source": [
    "merged_df = pd.merge(sales_df, customer_df, on='CustomerID', how='outer') \n",
    "print(\"\\nMerged DataFrame:\")\n",
    "print(merged_df)\n"
   ]
  },
  {
   "cell_type": "code",
   "execution_count": 29,
   "id": "cb6edabd-a60a-4af9-84ed-39d967aea14b",
   "metadata": {},
   "outputs": [
    {
     "name": "stdout",
     "output_type": "stream",
     "text": [
      "\n",
      "Merged DataFrame:\n",
      "   SaleID  CustomerID  Amount CustomerName  Age         City\n",
      "0       1         101     250          Ant    2     New York\n",
      "1       2         102     400          Bat    9  Los Angeles\n",
      "2       3         103     150          Cat   15      Chicago\n",
      "3       4         104     300          Dog    5      Houston\n"
     ]
    }
   ],
   "source": [
    "merged_df = pd.merge(sales_df, customer_df, on='CustomerID', how='right')\n",
    "print(\"\\nMerged DataFrame:\")\n",
    "print(merged_df)\n"
   ]
  },
  {
   "cell_type": "code",
   "execution_count": 27,
   "id": "84fbdb2c-010a-42d9-bae2-cf717fe30502",
   "metadata": {},
   "outputs": [
    {
     "name": "stdout",
     "output_type": "stream",
     "text": [
      "\n",
      "Merged DataFrame:\n",
      "   SaleID  CustomerID  Amount CustomerName  Age         City\n",
      "0       1         101     250          Ant    2     New York\n",
      "1       2         102     400          Bat    9  Los Angeles\n",
      "2       3         103     150          Cat   15      Chicago\n",
      "3       4         104     300          Dog    5      Houston\n"
     ]
    }
   ],
   "source": [
    "merged_df = pd.merge(sales_df, customer_df, on='CustomerID', how='left')\n",
    "print(\"\\nMerged DataFrame:\")\n",
    "print(merged_df)\n"
   ]
  },
  {
   "cell_type": "code",
   "execution_count": null,
   "id": "3ac73a56-a86e-41a6-9045-cd3f3e11c312",
   "metadata": {},
   "outputs": [],
   "source": []
  }
 ],
 "metadata": {
  "kernelspec": {
   "display_name": "Python [conda env:base] *",
   "language": "python",
   "name": "conda-base-py"
  },
  "language_info": {
   "codemirror_mode": {
    "name": "ipython",
    "version": 3
   },
   "file_extension": ".py",
   "mimetype": "text/x-python",
   "name": "python",
   "nbconvert_exporter": "python",
   "pygments_lexer": "ipython3",
   "version": "3.12.7"
  }
 },
 "nbformat": 4,
 "nbformat_minor": 5
}
