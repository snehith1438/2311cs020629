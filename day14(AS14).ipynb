{
 "cells": [
  {
   "cell_type": "markdown",
   "id": "157aba62-5e33-40b0-9b17-d8039f758ba1",
   "metadata": {},
   "source": [
    "Load the dataset.\n",
    "Perform any necessary data cleaning.\n",
    "Create the following visualizations:\n",
    "A bar plot comparing the average Effectiveness for each drug across different regions.\n",
    "A violin plot to show the distribution of Effectiveness and Side_Effects for each product.\n",
    "A pairplot to explore relationships between Effectiveness, Side_Effects, and Marketing_Spend. dataset name is Day_14_Pharma_data.csv \n",
    "A boxplot comparing Effectiveness for different trial periods.\n",
    "A regression plot to analyze how Marketing_Spend affects drug Effectiveness.\n",
    "Based on the visualizations, provide an analysis of:\n",
    "Which product has the best overall effectiveness.\n",
    "The correlation between effectiveness and side effects."
   ]
  },
  {
   "cell_type": "code",
   "execution_count": 49,
   "id": "2a64037d-8583-40cc-b882-ad6dfb678776",
   "metadata": {},
   "outputs": [],
   "source": [
    "numeric_data = data.select_dtypes(include=['int64', 'float64'])\n",
    "non_numeric_data = data.select_dtypes(exclude=['int64', 'float64'])"
   ]
  },
  {
   "cell_type": "code",
   "execution_count": 53,
   "id": "479fefc8-427c-4ce6-989d-659a54d50739",
   "metadata": {},
   "outputs": [
    {
     "name": "stdout",
     "output_type": "stream",
     "text": [
      "       Product_Name         Region Age_Group Trial_Period\n",
      "count            10             10        10           10\n",
      "unique            3              3         4            3\n",
      "top      PainRelief  North America     20-30     6 months\n",
      "freq              4              4         3            5\n"
     ]
    }
   ],
   "source": [
    "import pandas as pd\n",
    "import seaborn as sns\n",
    "import matplotlib.pyplot as plt\n",
    "data = pd.read_csv(\"Day_14_Pharma_data.csv\")\n",
    "numeric_data = data.select_dtypes(include=['int64', 'float64'])\n",
    "non_numeric_data = data.select_dtypes(exclude=['int64', 'float64'])\n",
    "numeric_data.fillna(numeric_data.mean(), inplace=True)\n",
    "print(non_numeric_data.describe(include='all'))  "
   ]
  },
  {
   "cell_type": "code",
   "execution_count": null,
   "id": "41d7cc19-7910-4f90-921d-0fbd18500b64",
   "metadata": {},
   "outputs": [],
   "source": []
  }
 ],
 "metadata": {
  "kernelspec": {
   "display_name": "Python [conda env:base] *",
   "language": "python",
   "name": "conda-base-py"
  },
  "language_info": {
   "codemirror_mode": {
    "name": "ipython",
    "version": 3
   },
   "file_extension": ".py",
   "mimetype": "text/x-python",
   "name": "python",
   "nbconvert_exporter": "python",
   "pygments_lexer": "ipython3",
   "version": "3.12.7"
  }
 },
 "nbformat": 4,
 "nbformat_minor": 5
}
