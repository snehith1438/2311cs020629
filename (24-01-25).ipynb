{
 "cells": [
  {
   "cell_type": "code",
   "execution_count": 16,
   "id": "d44696f1-d9fe-492a-8598-7c90355017a6",
   "metadata": {},
   "outputs": [],
   "source": [
    "import pandas as pd\n",
    "sales_data = {\n",
    "    'TransactionID': [1, 2, 3, 4, 5],\n",
    "    'CustomerID': [101, 102, 103, 104, 105],\n",
    "    'Amount': [250, 300, 400, 500, 600],\n",
    "    'Date': ['2020-01-01', '2025-01-02', '2025-01-03', '2025-01-04', '2025-01-05']\n",
    "}\n",
    "sales_df = pd.DataFrame(sales_data)\n",
    "customer_data = {\n",
    "    'CustomerID': [101, 102, 103, 104],\n",
    "    'CustomerName': ['Alice', 'Bob', 'Charlie', 'David'],\n",
    "    'Age': [30,35,40,25],\n",
    "    'City': ['New York', 'Los Angeles', 'Chicago', 'Houston']\n",
    "}\n",
    "\n",
    "customer_df = pd.DataFrame(customer_data)\n",
    "\n",
    "    "
   ]
  },
  {
   "cell_type": "code",
   "execution_count": 42,
   "id": "cdd26920-f8ed-490e-98cd-e36287e01dbe",
   "metadata": {},
   "outputs": [
    {
     "name": "stdout",
     "output_type": "stream",
     "text": [
      "Lower bound: -0.5286283690055669\n",
      "Upper bound: 3.805162761141157\n",
      "Outliers:\n",
      "          value\n",
      "2    -1.545400\n",
      "5    -0.720086\n",
      "12   -0.965066\n",
      "16   -1.136602\n",
      "19   -1.079805\n",
      "20   -1.977728\n",
      "21   -1.743372\n",
      "31   -0.549309\n",
      "39   -0.731970\n",
      "42   -0.939433\n",
      "44   -0.804591\n",
      "52   -0.539879\n",
      "63   -0.697810\n",
      "65   -0.529296\n",
      "67   -1.418556\n",
      "76   -1.508321\n",
      "78   -1.045133\n",
      "79   -0.798009\n",
      "82   -1.856185\n",
      "85   -2.131712\n",
      "89   -1.994394\n",
      "93   -0.753893\n",
      "99   -1.954512\n",
      "100  10.117476\n",
      "101   8.092543\n",
      "102   9.077091\n",
      "103  10.469751\n",
      "104   9.855633\n",
      "105   9.599862\n",
      "106   9.704016\n",
      "107  10.848209\n",
      "108  10.706830\n",
      "109   9.212731\n"
     ]
    }
   ],
   "source": [
    "\n",
    "import matplotlib.pyplot as plt\n",
    "import seaborn as snp\n",
    "import pandas as pd\n",
    "import numpy as np\n",
    "np.random.seed(10)\n",
    "data = pd.DataFrame({\n",
    "    'value':np.concatenate([np.random.normal(0, 1, 100), np.random.normal(10, 1, 10)])\n",
    "    })\n",
    "Q1 = data['value'].quantile(0.25)\n",
    "Q3 = data['value'].quantile(0.75)\n",
    "IQR = Q3 - Q1\n",
    "lower_bound = Q1 - 1.5 + IQR\n",
    "upper_bound = Q3 + 1.5 + IQR\n",
    "outliers = data[(data['value'] < lower_bound) | (data['value'] > upper_bound)]\n",
    "print(\"Lower bound:\", lower_bound)\n",
    "print(\"Upper bound:\", upper_bound)\n",
    "print(\"Outliers:\\n\", outliers)\n"
   ]
  },
  {
   "cell_type": "code",
   "execution_count": null,
   "id": "376addcf-a014-45a4-a900-0b258fd9f020",
   "metadata": {},
   "outputs": [],
   "source": [
    "outliers = data[(data['value'] < lower_bound) | (data['value'] > upper_bound)]\n",
    "print(f\"Outliers based on Box Plot criteria:\\n{outliers}\")\n",
    "plt.figure(figsize=(12, 6))\n",
    "plt.subplot(1, 2, 1)\n",
    "sns.boxplot(x=data['value'])\n",
    "plt.title('Box Plot')\n"
   ]
  }
 ],
 "metadata": {
  "kernelspec": {
   "display_name": "Python [conda env:base] *",
   "language": "python",
   "name": "conda-base-py"
  },
  "language_info": {
   "codemirror_mode": {
    "name": "ipython",
    "version": 3
   },
   "file_extension": ".py",
   "mimetype": "text/x-python",
   "name": "python",
   "nbconvert_exporter": "python",
   "pygments_lexer": "ipython3",
   "version": "3.12.7"
  }
 },
 "nbformat": 4,
 "nbformat_minor": 5
}
