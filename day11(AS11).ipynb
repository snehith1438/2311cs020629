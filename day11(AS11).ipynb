{
 "cells": [
  {
   "cell_type": "markdown",
   "id": "41626ad3-846d-45c8-a3a8-0f49f14aa1c0",
   "metadata": {},
   "source": [
    "Sort the dataset by Account_Balance in descending order and display the first 10 rows.\n",
    "Create a ranking column for Transaction_Amount within each Branch:\n",
    "Use rank() to give ranks for transactions based on their amounts within each branch."
   ]
  },
  {
   "cell_type": "code",
   "execution_count": 3,
   "id": "c16a13d6-5ac2-451a-9eec-bcb3482b6d67",
   "metadata": {},
   "outputs": [
    {
     "name": "stdout",
     "output_type": "stream",
     "text": [
      "          Date       Account_Type    Branch Transaction_Type  \\\n",
      "15  2023-01-03            Savings  Suburban   Service Charge   \n",
      "8   2023-01-20  Recurring Deposit  Downtown   Service Charge   \n",
      "2   2023-01-10            Current    Uptown     Loan Payment   \n",
      "7   2023-01-09            Current   Central     Loan Payment   \n",
      "17  2023-01-07            Current   Central     Loan Payment   \n",
      "1   2023-01-16            Current    Uptown       Withdrawal   \n",
      "19  2023-01-17            Savings   Central          Deposit   \n",
      "18  2023-01-12  Recurring Deposit  Suburban   Service Charge   \n",
      "16  2023-01-02      Fixed Deposit   Central          Deposit   \n",
      "14  2023-01-01      Fixed Deposit  Downtown       Withdrawal   \n",
      "\n",
      "    Transaction_Amount  Account_Balance  \n",
      "15             3350.32         12836.51  \n",
      "8              3899.98         12646.56  \n",
      "2              3363.85         12428.67  \n",
      "7              2346.72         10708.85  \n",
      "17             4116.52          9785.64  \n",
      "1               641.43          8908.39  \n",
      "19             4516.52          8789.19  \n",
      "18             1339.57          8666.74  \n",
      "16             4421.57          8330.40  \n",
      "14             4136.54          8175.08  \n",
      "          Date       Account_Type    Branch Transaction_Type  \\\n",
      "15  2023-01-03            Savings  Suburban   Service Charge   \n",
      "8   2023-01-20  Recurring Deposit  Downtown   Service Charge   \n",
      "2   2023-01-10            Current    Uptown     Loan Payment   \n",
      "7   2023-01-09            Current   Central     Loan Payment   \n",
      "17  2023-01-07            Current   Central     Loan Payment   \n",
      "1   2023-01-16            Current    Uptown       Withdrawal   \n",
      "19  2023-01-17            Savings   Central          Deposit   \n",
      "18  2023-01-12  Recurring Deposit  Suburban   Service Charge   \n",
      "16  2023-01-02      Fixed Deposit   Central          Deposit   \n",
      "14  2023-01-01      Fixed Deposit  Downtown       Withdrawal   \n",
      "5   2023-01-06            Current  Suburban   Service Charge   \n",
      "0   2023-01-19      Fixed Deposit   Central     Loan Payment   \n",
      "13  2023-01-05  Recurring Deposit   Central     Loan Payment   \n",
      "11  2023-01-08      Fixed Deposit  Suburban   Service Charge   \n",
      "6   2023-01-04  Recurring Deposit   Central   Service Charge   \n",
      "10  2023-01-13  Recurring Deposit   Central          Deposit   \n",
      "3   2023-01-18            Savings    Uptown     Loan Payment   \n",
      "4   2023-01-14  Recurring Deposit  Suburban     Loan Payment   \n",
      "12  2023-01-15      Fixed Deposit    Uptown   Service Charge   \n",
      "9   2023-01-11      Fixed Deposit  Downtown          Deposit   \n",
      "\n",
      "    Transaction_Amount  Account_Balance  Transaction_Rank  \n",
      "15             3350.32         12836.51               2.0  \n",
      "8              3899.98         12646.56               2.0  \n",
      "2              3363.85         12428.67               1.0  \n",
      "7              2346.72         10708.85               5.0  \n",
      "17             4116.52          9785.64               4.0  \n",
      "1               641.43          8908.39               4.0  \n",
      "19             4516.52          8789.19               2.0  \n",
      "18             1339.57          8666.74               5.0  \n",
      "16             4421.57          8330.40               3.0  \n",
      "14             4136.54          8175.08               1.0  \n",
      "5              4584.05          7635.47               1.0  \n",
      "0               985.51          6839.59               7.0  \n",
      "13             4683.64          6762.43               1.0  \n",
      "11             1803.88          6560.58               4.0  \n",
      "6              1621.82          6465.79               6.0  \n",
      "10              846.41          6443.14               8.0  \n",
      "3              1914.60          5776.63               2.0  \n",
      "4              2788.57          4779.04               3.0  \n",
      "12             1225.50          4224.47               3.0  \n",
      "9              1529.59          2592.16               3.0  \n"
     ]
    }
   ],
   "source": [
    "import pandas as pd\n",
    "\n",
    "# Load the dataset from the file \"banking_data.csv\"\n",
    "df = pd.read_csv(\"banking_data.csv\")\n",
    "\n",
    "# Step 1: Sort by Account_Balance in descending order\n",
    "df_sorted = df.sort_values(by='Account_Balance', ascending=False)\n",
    "\n",
    "# Display the first 10 rows after sorting\n",
    "print(df_sorted.head(10))\n",
    "\n",
    "# Step 2: Create a ranking column for Transaction_Amount within each Branch\n",
    "df_sorted['Transaction_Rank'] = df_sorted.groupby('Branch')['Transaction_Amount'].rank(method='first', ascending=False)\n",
    "\n",
    "# Display the updated dataframe with the ranking column\n",
    "print(df_sorted)\n"
   ]
  },
  {
   "cell_type": "code",
   "execution_count": null,
   "id": "a820de99-2c29-44b3-be01-4d9baa73b770",
   "metadata": {},
   "outputs": [],
   "source": []
  }
 ],
 "metadata": {
  "kernelspec": {
   "display_name": "Python [conda env:base] *",
   "language": "python",
   "name": "conda-base-py"
  },
  "language_info": {
   "codemirror_mode": {
    "name": "ipython",
    "version": 3
   },
   "file_extension": ".py",
   "mimetype": "text/x-python",
   "name": "python",
   "nbconvert_exporter": "python",
   "pygments_lexer": "ipython3",
   "version": "3.12.7"
  }
 },
 "nbformat": 4,
 "nbformat_minor": 5
}
