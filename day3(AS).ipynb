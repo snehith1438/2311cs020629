{
 "cells": [
  {
   "cell_type": "markdown",
   "id": "ddd98ddf",
   "metadata": {},
   "source": [
    "#### Write a Python program that takes a student's marks in three subjects as input.\n",
    "#### If the average is greater than or equal to 90, print \"Grade: A\".\n",
    "#### If the average is between 80 and 89, print \"Grade: B\".\n",
    "#### If the average is between 70 and 79, print \"Grade: C\".\n",
    "#### Otherwise, print \"Grade: Fail\".\n"
   ]
  },
  {
   "cell_type": "code",
   "execution_count": 2,
   "id": "a77c417b",
   "metadata": {},
   "outputs": [
    {
     "name": "stdout",
     "output_type": "stream",
     "text": [
      "Enter marks for mathematics: 88\n",
      "Enter marks for english: 98\n",
      "Enter marks for science: 99\n",
      "Grade: A\n"
     ]
    }
   ],
   "source": [
    "mathematics = float(input(\"Enter marks for mathematics: \"))\n",
    "english = float(input(\"Enter marks for english: \"))\n",
    "science = float(input(\"Enter marks for science: \"))\n",
    "\n",
    "average = (mathematics + english + science) / 3\n",
    "if average >= 90:\n",
    "    print(\"Grade: A\")\n",
    "elif 80 <= average < 90:\n",
    "    print(\"Grade: B\")\n",
    "elif 70 <= average < 80:\n",
    "    print(\"Grade: C\")\n",
    "else:\n",
    "    print(\"Grade: Fail\")\n",
    "\n"
   ]
  },
  {
   "cell_type": "code",
   "execution_count": null,
   "id": "51d29b56",
   "metadata": {},
   "outputs": [],
   "source": []
  }
 ],
 "metadata": {
  "kernelspec": {
   "display_name": "Python 3 (ipykernel)",
   "language": "python",
   "name": "python3"
  },
  "language_info": {
   "codemirror_mode": {
    "name": "ipython",
    "version": 3
   },
   "file_extension": ".py",
   "mimetype": "text/x-python",
   "name": "python",
   "nbconvert_exporter": "python",
   "pygments_lexer": "ipython3",
   "version": "3.11.4"
  }
 },
 "nbformat": 4,
 "nbformat_minor": 5
}
