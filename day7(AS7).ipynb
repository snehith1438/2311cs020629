{
 "cells": [
  {
   "cell_type": "markdown",
   "id": "6d6a8b18-016b-4736-bd4d-5936dc1681d6",
   "metadata": {},
   "source": [
    "#Load and Explore the Data\n",
    "Load the sales_data.csv file using Pandas.\n",
    "Display the first 5 rows of the dataset.\n",
    "Print basic statistics (mean, median, min, max, etc.) of the numerical columns using .describe().\n",
    "Data Analysis\n",
    "Calculate the total sales for each region.\n",
    "Find the most sold product (based on quantity).\n",
    "Compute the average profit margin for each product. (Profit margin = Profit / Sales * 100)\n"
   ]
  },
  {
   "cell_type": "code",
   "execution_count": 13,
   "id": "20662dd6-34c4-4e58-9df1-0fac328c21b9",
   "metadata": {},
   "outputs": [
    {
     "name": "stdout",
     "output_type": "stream",
     "text": [
      "         Date Product Region    Sales  Profit  Quantity\n",
      "0  2023-01-02  Tablet   East  1061.81  236.12         7\n",
      "1  2023-01-06  Laptop  North  1926.07  246.34         8\n",
      "2  2023-01-03  Tablet   East  1597.99  253.17         3\n",
      "3  2023-01-20  Tablet  North  1397.99  242.23         1\n",
      "4  2023-01-04  Laptop   West   734.03  140.36         4\n"
     ]
    }
   ],
   "source": [
    "import pandas as pd\n",
    "Day_7_sales_data = pd.read_csv('Day_7_sales_data.csv')\n",
    "print(Day_7_sales_data.head())"
   ]
  },
  {
   "cell_type": "code",
   "execution_count": 17,
   "id": "da991f22-f93f-468e-9b9c-942875fc51bc",
   "metadata": {},
   "outputs": [
    {
     "name": "stdout",
     "output_type": "stream",
     "text": [
      "             Sales      Profit   Quantity\n",
      "count    20.000000   20.000000  20.000000\n",
      "mean   1186.553000  211.533000   5.050000\n",
      "std     461.528444   66.916251   2.543826\n",
      "min     530.880000   82.160000   1.000000\n",
      "25%     774.517500  166.515000   2.750000\n",
      "50%    1104.865000  214.670000   5.000000\n",
      "75%    1571.080000  248.047500   7.250000\n",
      "max    1954.860000  364.970000   9.000000\n"
     ]
    }
   ],
   "source": [
    "print(Day_7_sales_data.describe())"
   ]
  },
  {
   "cell_type": "code",
   "execution_count": 19,
   "id": "7f10c2a2-0681-4848-b5c0-5e36a2f4c0dd",
   "metadata": {},
   "outputs": [
    {
     "name": "stdout",
     "output_type": "stream",
     "text": [
      "Region\n",
      "East      5818.93\n",
      "North    10449.68\n",
      "South      936.84\n",
      "West      6525.61\n",
      "Name: Sales, dtype: float64\n"
     ]
    }
   ],
   "source": [
    "total_sales_by_region = Day_7_sales_data.groupby('Region')['Sales'].sum()\n",
    "print(total_sales_by_region)"
   ]
  },
  {
   "cell_type": "code",
   "execution_count": 21,
   "id": "f8084ab5-6497-4ae8-829e-4f717464df42",
   "metadata": {},
   "outputs": [
    {
     "name": "stdout",
     "output_type": "stream",
     "text": [
      "Most Sold Product: Tablet\n"
     ]
    }
   ],
   "source": [
    "most_sold_product = Day_7_sales_data.groupby('Product')['Quantity'].sum()\n",
    "most_sold_product = most_sold_product.idxmax()\n",
    "print(\"Most Sold Product:\", most_sold_product)\n"
   ]
  },
  {
   "cell_type": "code",
   "execution_count": null,
   "id": "9bd70bad-bf30-463d-95d5-6adb8accc4ff",
   "metadata": {},
   "outputs": [],
   "source": []
  }
 ],
 "metadata": {
  "kernelspec": {
   "display_name": "Python [conda env:base] *",
   "language": "python",
   "name": "conda-base-py"
  },
  "language_info": {
   "codemirror_mode": {
    "name": "ipython",
    "version": 3
   },
   "file_extension": ".py",
   "mimetype": "text/x-python",
   "name": "python",
   "nbconvert_exporter": "python",
   "pygments_lexer": "ipython3",
   "version": "3.12.7"
  }
 },
 "nbformat": 4,
 "nbformat_minor": 5
}
